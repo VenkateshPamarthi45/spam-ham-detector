{
 "cells": [
  {
   "cell_type": "code",
   "execution_count": 243,
   "metadata": {
    "tags": [
     "nlkt"
    ]
   },
   "outputs": [],
   "source": [
    "import pandas as pd\n",
    "import nltk\n",
    "from nltk.tokenize import word_tokenize\n",
    "from nltk.stem  import SnowballStemmer, WordNetLemmatizer\n",
    "from nltk.corpus import stopwords\n",
    "from sklearn.feature_extraction.text import TfidfVectorizer"
   ]
  },
  {
   "cell_type": "code",
   "execution_count": 244,
   "metadata": {},
   "outputs": [
    {
     "name": "stderr",
     "output_type": "stream",
     "text": [
      "[nltk_data] Downloading package wordnet to\n",
      "[nltk_data]     /Users/venkatesh/nltk_data...\n",
      "[nltk_data]   Package wordnet is already up-to-date!\n"
     ]
    },
    {
     "data": {
      "text/plain": [
       "True"
      ]
     },
     "execution_count": 244,
     "metadata": {},
     "output_type": "execute_result"
    }
   ],
   "source": [
    "nltk.download('wordnet')"
   ]
  },
  {
   "cell_type": "markdown",
   "metadata": {},
   "source": [
    "### Loading data"
   ]
  },
  {
   "cell_type": "code",
   "execution_count": 245,
   "metadata": {},
   "outputs": [
    {
     "data": {
      "text/html": [
       "<div>\n",
       "<style scoped>\n",
       "    .dataframe tbody tr th:only-of-type {\n",
       "        vertical-align: middle;\n",
       "    }\n",
       "\n",
       "    .dataframe tbody tr th {\n",
       "        vertical-align: top;\n",
       "    }\n",
       "\n",
       "    .dataframe thead th {\n",
       "        text-align: right;\n",
       "    }\n",
       "</style>\n",
       "<table border=\"1\" class=\"dataframe\">\n",
       "  <thead>\n",
       "    <tr style=\"text-align: right;\">\n",
       "      <th></th>\n",
       "      <th>label</th>\n",
       "      <th>message</th>\n",
       "    </tr>\n",
       "  </thead>\n",
       "  <tbody>\n",
       "    <tr>\n",
       "      <th>0</th>\n",
       "      <td>ham</td>\n",
       "      <td>Go until jurong point, crazy.. Available only ...</td>\n",
       "    </tr>\n",
       "    <tr>\n",
       "      <th>1</th>\n",
       "      <td>ham</td>\n",
       "      <td>Ok lar... Joking wif u oni...</td>\n",
       "    </tr>\n",
       "    <tr>\n",
       "      <th>2</th>\n",
       "      <td>spam</td>\n",
       "      <td>Free entry in 2 a wkly comp to win FA Cup fina...</td>\n",
       "    </tr>\n",
       "    <tr>\n",
       "      <th>3</th>\n",
       "      <td>ham</td>\n",
       "      <td>U dun say so early hor... U c already then say...</td>\n",
       "    </tr>\n",
       "    <tr>\n",
       "      <th>4</th>\n",
       "      <td>ham</td>\n",
       "      <td>Nah I don't think he goes to usf, he lives aro...</td>\n",
       "    </tr>\n",
       "  </tbody>\n",
       "</table>\n",
       "</div>"
      ],
      "text/plain": [
       "  label                                            message\n",
       "0   ham  Go until jurong point, crazy.. Available only ...\n",
       "1   ham                      Ok lar... Joking wif u oni...\n",
       "2  spam  Free entry in 2 a wkly comp to win FA Cup fina...\n",
       "3   ham  U dun say so early hor... U c already then say...\n",
       "4   ham  Nah I don't think he goes to usf, he lives aro..."
      ]
     },
     "execution_count": 245,
     "metadata": {},
     "output_type": "execute_result"
    }
   ],
   "source": [
    "df = pd.read_csv(\"data/ham_spam.txt\", sep=\"\\t\", names=[\"label\",\"message\"])\n",
    "df.head()"
   ]
  },
  {
   "cell_type": "code",
   "execution_count": 246,
   "metadata": {},
   "outputs": [
    {
     "data": {
      "text/plain": [
       "(5572, 2)"
      ]
     },
     "execution_count": 246,
     "metadata": {},
     "output_type": "execute_result"
    }
   ],
   "source": [
    "df.shape"
   ]
  },
  {
   "cell_type": "code",
   "execution_count": 247,
   "metadata": {},
   "outputs": [],
   "source": [
    "def preprocess(document, stem = True):\n",
    "    document = document.lower()\n",
    "    words = word_tokenize(document)\n",
    "    ## Removing stop words\n",
    "    words = [word for word in words if word not in stopwords.words(\"english\")]\n",
    "    \n",
    "    if stem == True:\n",
    "        words = [SnowballStemmer(\"english\").stem(word) for word in words]\n",
    "    else:\n",
    "        words = [WordNetLemmatizer().lemmatize(word) for word in words]\n",
    "    return \" \".join(words)"
   ]
  },
  {
   "cell_type": "code",
   "execution_count": 248,
   "metadata": {},
   "outputs": [
    {
     "data": {
      "text/plain": [
       "'go jurong point , crazy .. available bugis n great world la e buffet ... cine got amore wat ...'"
      ]
     },
     "execution_count": 248,
     "metadata": {},
     "output_type": "execute_result"
    }
   ],
   "source": [
    "doc = preprocess(df[\"message\"][0], False)\n",
    "doc"
   ]
  },
  {
   "cell_type": "code",
   "execution_count": 249,
   "metadata": {},
   "outputs": [],
   "source": [
    "df[\"message\"] = df[\"message\"].map(preprocess, True)"
   ]
  },
  {
   "cell_type": "code",
   "execution_count": 250,
   "metadata": {},
   "outputs": [
    {
     "data": {
      "text/html": [
       "<div>\n",
       "<style scoped>\n",
       "    .dataframe tbody tr th:only-of-type {\n",
       "        vertical-align: middle;\n",
       "    }\n",
       "\n",
       "    .dataframe tbody tr th {\n",
       "        vertical-align: top;\n",
       "    }\n",
       "\n",
       "    .dataframe thead th {\n",
       "        text-align: right;\n",
       "    }\n",
       "</style>\n",
       "<table border=\"1\" class=\"dataframe\">\n",
       "  <thead>\n",
       "    <tr style=\"text-align: right;\">\n",
       "      <th></th>\n",
       "      <th>label</th>\n",
       "      <th>message</th>\n",
       "    </tr>\n",
       "  </thead>\n",
       "  <tbody>\n",
       "    <tr>\n",
       "      <th>0</th>\n",
       "      <td>ham</td>\n",
       "      <td>go jurong point , crazi .. avail bugi n great ...</td>\n",
       "    </tr>\n",
       "    <tr>\n",
       "      <th>1</th>\n",
       "      <td>ham</td>\n",
       "      <td>ok lar ... joke wif u oni ...</td>\n",
       "    </tr>\n",
       "    <tr>\n",
       "      <th>2</th>\n",
       "      <td>spam</td>\n",
       "      <td>free entri 2 wkli comp win fa cup final tkts 2...</td>\n",
       "    </tr>\n",
       "    <tr>\n",
       "      <th>3</th>\n",
       "      <td>ham</td>\n",
       "      <td>u dun say earli hor ... u c alreadi say ...</td>\n",
       "    </tr>\n",
       "    <tr>\n",
       "      <th>4</th>\n",
       "      <td>ham</td>\n",
       "      <td>nah n't think goe usf , live around though</td>\n",
       "    </tr>\n",
       "  </tbody>\n",
       "</table>\n",
       "</div>"
      ],
      "text/plain": [
       "  label                                            message\n",
       "0   ham  go jurong point , crazi .. avail bugi n great ...\n",
       "1   ham                      ok lar ... joke wif u oni ...\n",
       "2  spam  free entri 2 wkli comp win fa cup final tkts 2...\n",
       "3   ham        u dun say earli hor ... u c alreadi say ...\n",
       "4   ham         nah n't think goe usf , live around though"
      ]
     },
     "execution_count": 250,
     "metadata": {},
     "output_type": "execute_result"
    }
   ],
   "source": [
    "df.head()"
   ]
  },
  {
   "cell_type": "code",
   "execution_count": 251,
   "metadata": {},
   "outputs": [],
   "source": [
    "## Creating train test data"
   ]
  },
  {
   "cell_type": "code",
   "execution_count": 252,
   "metadata": {},
   "outputs": [],
   "source": [
    "from sklearn.model_selection import train_test_split"
   ]
  },
  {
   "cell_type": "code",
   "execution_count": 253,
   "metadata": {},
   "outputs": [],
   "source": [
    "y = df.pop(\"label\")\n",
    "X = df"
   ]
  },
  {
   "cell_type": "code",
   "execution_count": 254,
   "metadata": {},
   "outputs": [
    {
     "data": {
      "text/html": [
       "<div>\n",
       "<style scoped>\n",
       "    .dataframe tbody tr th:only-of-type {\n",
       "        vertical-align: middle;\n",
       "    }\n",
       "\n",
       "    .dataframe tbody tr th {\n",
       "        vertical-align: top;\n",
       "    }\n",
       "\n",
       "    .dataframe thead th {\n",
       "        text-align: right;\n",
       "    }\n",
       "</style>\n",
       "<table border=\"1\" class=\"dataframe\">\n",
       "  <thead>\n",
       "    <tr style=\"text-align: right;\">\n",
       "      <th></th>\n",
       "      <th>message</th>\n",
       "    </tr>\n",
       "  </thead>\n",
       "  <tbody>\n",
       "    <tr>\n",
       "      <th>0</th>\n",
       "      <td>go jurong point , crazi .. avail bugi n great ...</td>\n",
       "    </tr>\n",
       "    <tr>\n",
       "      <th>1</th>\n",
       "      <td>ok lar ... joke wif u oni ...</td>\n",
       "    </tr>\n",
       "    <tr>\n",
       "      <th>2</th>\n",
       "      <td>free entri 2 wkli comp win fa cup final tkts 2...</td>\n",
       "    </tr>\n",
       "    <tr>\n",
       "      <th>3</th>\n",
       "      <td>u dun say earli hor ... u c alreadi say ...</td>\n",
       "    </tr>\n",
       "    <tr>\n",
       "      <th>4</th>\n",
       "      <td>nah n't think goe usf , live around though</td>\n",
       "    </tr>\n",
       "  </tbody>\n",
       "</table>\n",
       "</div>"
      ],
      "text/plain": [
       "                                             message\n",
       "0  go jurong point , crazi .. avail bugi n great ...\n",
       "1                      ok lar ... joke wif u oni ...\n",
       "2  free entri 2 wkli comp win fa cup final tkts 2...\n",
       "3        u dun say earli hor ... u c alreadi say ...\n",
       "4         nah n't think goe usf , live around though"
      ]
     },
     "execution_count": 254,
     "metadata": {},
     "output_type": "execute_result"
    }
   ],
   "source": [
    "X.head()"
   ]
  },
  {
   "cell_type": "code",
   "execution_count": 255,
   "metadata": {},
   "outputs": [],
   "source": [
    "X_train, X_test, y_train, y_test = train_test_split(X, y, test_size=0.30, random_state=45)"
   ]
  },
  {
   "cell_type": "code",
   "execution_count": 256,
   "metadata": {},
   "outputs": [
    {
     "data": {
      "text/plain": [
       "(3900, 1)"
      ]
     },
     "execution_count": 256,
     "metadata": {},
     "output_type": "execute_result"
    }
   ],
   "source": [
    "X_train.shape"
   ]
  },
  {
   "cell_type": "code",
   "execution_count": 257,
   "metadata": {},
   "outputs": [
    {
     "data": {
      "text/plain": [
       "1201                    otherwis part time job na-tuit ..\n",
       "77                           like peopl much : ) shi pa .\n",
       "1346                  que pase un buen tiempo someth like\n",
       "2753                           sat right ? okay thank ...\n",
       "3097    walk mom . right stagwood pass right wintersto...\n",
       "                              ...                        \n",
       "4473                      3. receiv mobil content . enjoy\n",
       "580     arngd marriag u r walkin unfortunt snake bite ...\n",
       "163           'm love . 'm excit day spend . make happi .\n",
       "4703                                           anytim ...\n",
       "3616    enjoy watch play footbal basketbal . anyth out...\n",
       "Name: message, Length: 3900, dtype: object"
      ]
     },
     "execution_count": 257,
     "metadata": {},
     "output_type": "execute_result"
    }
   ],
   "source": [
    "X_train[\"message\"]"
   ]
  },
  {
   "cell_type": "code",
   "execution_count": 258,
   "metadata": {},
   "outputs": [
    {
     "data": {
      "text/plain": [
       "dtype('O')"
      ]
     },
     "execution_count": 258,
     "metadata": {},
     "output_type": "execute_result"
    }
   ],
   "source": [
    "df[\"message\"].dtype"
   ]
  },
  {
   "cell_type": "code",
   "execution_count": 259,
   "metadata": {},
   "outputs": [
    {
     "data": {
      "text/plain": [
       "(3900,)"
      ]
     },
     "execution_count": 259,
     "metadata": {},
     "output_type": "execute_result"
    }
   ],
   "source": [
    "y_train.shape"
   ]
  },
  {
   "cell_type": "code",
   "execution_count": 260,
   "metadata": {},
   "outputs": [],
   "source": [
    "vectorizer = TfidfVectorizer()\n",
    "tf_idf_model = vectorizer.fit_transform(X_train[\"message\"])"
   ]
  },
  {
   "cell_type": "code",
   "execution_count": 261,
   "metadata": {},
   "outputs": [],
   "source": [
    "dataframe = pd.DataFrame(tf_idf_model.toarray(), columns = vectorizer.get_feature_names())"
   ]
  },
  {
   "cell_type": "code",
   "execution_count": 262,
   "metadata": {},
   "outputs": [],
   "source": [
    "dataframe[\"label\"] = y"
   ]
  },
  {
   "cell_type": "code",
   "execution_count": 263,
   "metadata": {},
   "outputs": [
    {
     "data": {
      "text/html": [
       "<div>\n",
       "<style scoped>\n",
       "    .dataframe tbody tr th:only-of-type {\n",
       "        vertical-align: middle;\n",
       "    }\n",
       "\n",
       "    .dataframe tbody tr th {\n",
       "        vertical-align: top;\n",
       "    }\n",
       "\n",
       "    .dataframe thead th {\n",
       "        text-align: right;\n",
       "    }\n",
       "</style>\n",
       "<table border=\"1\" class=\"dataframe\">\n",
       "  <thead>\n",
       "    <tr style=\"text-align: right;\">\n",
       "      <th></th>\n",
       "      <th>00</th>\n",
       "      <th>000</th>\n",
       "      <th>000pes</th>\n",
       "      <th>008704050406</th>\n",
       "      <th>0089</th>\n",
       "      <th>01223585236</th>\n",
       "      <th>01223585334</th>\n",
       "      <th>0125698789</th>\n",
       "      <th>02</th>\n",
       "      <th>0207</th>\n",
       "      <th>...</th>\n",
       "      <th>zindgi</th>\n",
       "      <th>zoe</th>\n",
       "      <th>zogtorius</th>\n",
       "      <th>zouk</th>\n",
       "      <th>zyada</th>\n",
       "      <th>ãº1</th>\n",
       "      <th>ã¼</th>\n",
       "      <th>ãœ</th>\n",
       "      <th>éˆ</th>\n",
       "      <th>label</th>\n",
       "    </tr>\n",
       "  </thead>\n",
       "  <tbody>\n",
       "    <tr>\n",
       "      <th>0</th>\n",
       "      <td>0.0</td>\n",
       "      <td>0.0</td>\n",
       "      <td>0.0</td>\n",
       "      <td>0.0</td>\n",
       "      <td>0.0</td>\n",
       "      <td>0.0</td>\n",
       "      <td>0.0</td>\n",
       "      <td>0.0</td>\n",
       "      <td>0.0</td>\n",
       "      <td>0.0</td>\n",
       "      <td>...</td>\n",
       "      <td>0.0</td>\n",
       "      <td>0.0</td>\n",
       "      <td>0.0</td>\n",
       "      <td>0.0</td>\n",
       "      <td>0.0</td>\n",
       "      <td>0.0</td>\n",
       "      <td>0.0</td>\n",
       "      <td>0.0</td>\n",
       "      <td>0.0</td>\n",
       "      <td>ham</td>\n",
       "    </tr>\n",
       "    <tr>\n",
       "      <th>1</th>\n",
       "      <td>0.0</td>\n",
       "      <td>0.0</td>\n",
       "      <td>0.0</td>\n",
       "      <td>0.0</td>\n",
       "      <td>0.0</td>\n",
       "      <td>0.0</td>\n",
       "      <td>0.0</td>\n",
       "      <td>0.0</td>\n",
       "      <td>0.0</td>\n",
       "      <td>0.0</td>\n",
       "      <td>...</td>\n",
       "      <td>0.0</td>\n",
       "      <td>0.0</td>\n",
       "      <td>0.0</td>\n",
       "      <td>0.0</td>\n",
       "      <td>0.0</td>\n",
       "      <td>0.0</td>\n",
       "      <td>0.0</td>\n",
       "      <td>0.0</td>\n",
       "      <td>0.0</td>\n",
       "      <td>ham</td>\n",
       "    </tr>\n",
       "    <tr>\n",
       "      <th>2</th>\n",
       "      <td>0.0</td>\n",
       "      <td>0.0</td>\n",
       "      <td>0.0</td>\n",
       "      <td>0.0</td>\n",
       "      <td>0.0</td>\n",
       "      <td>0.0</td>\n",
       "      <td>0.0</td>\n",
       "      <td>0.0</td>\n",
       "      <td>0.0</td>\n",
       "      <td>0.0</td>\n",
       "      <td>...</td>\n",
       "      <td>0.0</td>\n",
       "      <td>0.0</td>\n",
       "      <td>0.0</td>\n",
       "      <td>0.0</td>\n",
       "      <td>0.0</td>\n",
       "      <td>0.0</td>\n",
       "      <td>0.0</td>\n",
       "      <td>0.0</td>\n",
       "      <td>0.0</td>\n",
       "      <td>spam</td>\n",
       "    </tr>\n",
       "    <tr>\n",
       "      <th>3</th>\n",
       "      <td>0.0</td>\n",
       "      <td>0.0</td>\n",
       "      <td>0.0</td>\n",
       "      <td>0.0</td>\n",
       "      <td>0.0</td>\n",
       "      <td>0.0</td>\n",
       "      <td>0.0</td>\n",
       "      <td>0.0</td>\n",
       "      <td>0.0</td>\n",
       "      <td>0.0</td>\n",
       "      <td>...</td>\n",
       "      <td>0.0</td>\n",
       "      <td>0.0</td>\n",
       "      <td>0.0</td>\n",
       "      <td>0.0</td>\n",
       "      <td>0.0</td>\n",
       "      <td>0.0</td>\n",
       "      <td>0.0</td>\n",
       "      <td>0.0</td>\n",
       "      <td>0.0</td>\n",
       "      <td>ham</td>\n",
       "    </tr>\n",
       "    <tr>\n",
       "      <th>4</th>\n",
       "      <td>0.0</td>\n",
       "      <td>0.0</td>\n",
       "      <td>0.0</td>\n",
       "      <td>0.0</td>\n",
       "      <td>0.0</td>\n",
       "      <td>0.0</td>\n",
       "      <td>0.0</td>\n",
       "      <td>0.0</td>\n",
       "      <td>0.0</td>\n",
       "      <td>0.0</td>\n",
       "      <td>...</td>\n",
       "      <td>0.0</td>\n",
       "      <td>0.0</td>\n",
       "      <td>0.0</td>\n",
       "      <td>0.0</td>\n",
       "      <td>0.0</td>\n",
       "      <td>0.0</td>\n",
       "      <td>0.0</td>\n",
       "      <td>0.0</td>\n",
       "      <td>0.0</td>\n",
       "      <td>ham</td>\n",
       "    </tr>\n",
       "  </tbody>\n",
       "</table>\n",
       "<p>5 rows × 6188 columns</p>\n",
       "</div>"
      ],
      "text/plain": [
       "    00  000  000pes  008704050406  0089  01223585236  01223585334  0125698789  \\\n",
       "0  0.0  0.0     0.0           0.0   0.0          0.0          0.0         0.0   \n",
       "1  0.0  0.0     0.0           0.0   0.0          0.0          0.0         0.0   \n",
       "2  0.0  0.0     0.0           0.0   0.0          0.0          0.0         0.0   \n",
       "3  0.0  0.0     0.0           0.0   0.0          0.0          0.0         0.0   \n",
       "4  0.0  0.0     0.0           0.0   0.0          0.0          0.0         0.0   \n",
       "\n",
       "    02  0207  ...  zindgi  zoe  zogtorius  zouk  zyada  ãº1   ã¼   ãœ   éˆ  \\\n",
       "0  0.0   0.0  ...     0.0  0.0        0.0   0.0    0.0  0.0  0.0  0.0  0.0   \n",
       "1  0.0   0.0  ...     0.0  0.0        0.0   0.0    0.0  0.0  0.0  0.0  0.0   \n",
       "2  0.0   0.0  ...     0.0  0.0        0.0   0.0    0.0  0.0  0.0  0.0  0.0   \n",
       "3  0.0   0.0  ...     0.0  0.0        0.0   0.0    0.0  0.0  0.0  0.0  0.0   \n",
       "4  0.0   0.0  ...     0.0  0.0        0.0   0.0    0.0  0.0  0.0  0.0  0.0   \n",
       "\n",
       "   label  \n",
       "0    ham  \n",
       "1    ham  \n",
       "2   spam  \n",
       "3    ham  \n",
       "4    ham  \n",
       "\n",
       "[5 rows x 6188 columns]"
      ]
     },
     "execution_count": 263,
     "metadata": {},
     "output_type": "execute_result"
    }
   ],
   "source": [
    "dataframe.head()"
   ]
  },
  {
   "cell_type": "code",
   "execution_count": 264,
   "metadata": {},
   "outputs": [],
   "source": [
    "from sklearn import svm\n"
   ]
  },
  {
   "cell_type": "code",
   "execution_count": 265,
   "metadata": {},
   "outputs": [
    {
     "data": {
      "text/plain": [
       "SVC(C=1000)"
      ]
     },
     "execution_count": 265,
     "metadata": {},
     "output_type": "execute_result"
    }
   ],
   "source": [
    "svm_model = svm.SVC(C=1000)\n",
    "svm_model.fit(tf_idf_model, y_train)"
   ]
  },
  {
   "cell_type": "code",
   "execution_count": 266,
   "metadata": {},
   "outputs": [
    {
     "name": "stdout",
     "output_type": "stream",
     "text": [
      "[[1446    2]\n",
      " [  30  194]]\n"
     ]
    }
   ],
   "source": [
    "from sklearn.metrics import confusion_matrix\n",
    "X_test = vectorizer.transform(X_test[\"message\"])\n",
    "y_pred = svm_model.predict(X_test)\n",
    "print(confusion_matrix(y_test, y_pred))"
   ]
  },
  {
   "cell_type": "markdown",
   "metadata": {},
   "source": [
    "## Hyperparameter tunning"
   ]
  },
  {
   "cell_type": "code",
   "execution_count": 267,
   "metadata": {},
   "outputs": [
    {
     "name": "stdout",
     "output_type": "stream",
     "text": [
      "Fitting 5 folds for each of 24 candidates, totalling 120 fits\n"
     ]
    },
    {
     "name": "stderr",
     "output_type": "stream",
     "text": [
      "[Parallel(n_jobs=-1)]: Using backend LokyBackend with 12 concurrent workers.\n",
      "[Parallel(n_jobs=-1)]: Done  26 tasks      | elapsed:    2.9s\n",
      "[Parallel(n_jobs=-1)]: Done 120 out of 120 | elapsed:    6.1s finished\n"
     ]
    },
    {
     "data": {
      "text/plain": [
       "GridSearchCV(estimator=SVC(), n_jobs=-1,\n",
       "             param_grid={'C': [1, 10, 100, 1000],\n",
       "                         'gamma': [0.01, 0.001, 0.0001],\n",
       "                         'kernel': ['linear', 'rbf']},\n",
       "             scoring='accuracy', verbose=1)"
      ]
     },
     "execution_count": 267,
     "metadata": {},
     "output_type": "execute_result"
    }
   ],
   "source": [
    "# conduct (grid search) cross-validation to find the optimal values \n",
    "# of cost C and the choice of kernel\n",
    "\n",
    "from sklearn.model_selection import GridSearchCV\n",
    "\n",
    "parameters = {'C':[1, 10, 100, 1000], \n",
    "             'gamma': [1e-2, 1e-3, 1e-4],\n",
    "             'kernel':[\"linear\",\"rbf\"]}\n",
    "\n",
    "# instantiate a model \n",
    "svc_grid_search = svm.SVC()\n",
    "\n",
    "# create a classifier to perform grid search\n",
    "clf = GridSearchCV(svc_grid_search, param_grid=parameters, scoring='accuracy', n_jobs=-1, verbose=1)\n",
    "\n",
    "# fit\n",
    "clf.fit(tf_idf_model, y_train)"
   ]
  },
  {
   "cell_type": "code",
   "execution_count": 268,
   "metadata": {},
   "outputs": [
    {
     "data": {
      "text/html": [
       "<div>\n",
       "<style scoped>\n",
       "    .dataframe tbody tr th:only-of-type {\n",
       "        vertical-align: middle;\n",
       "    }\n",
       "\n",
       "    .dataframe tbody tr th {\n",
       "        vertical-align: top;\n",
       "    }\n",
       "\n",
       "    .dataframe thead th {\n",
       "        text-align: right;\n",
       "    }\n",
       "</style>\n",
       "<table border=\"1\" class=\"dataframe\">\n",
       "  <thead>\n",
       "    <tr style=\"text-align: right;\">\n",
       "      <th></th>\n",
       "      <th>mean_fit_time</th>\n",
       "      <th>std_fit_time</th>\n",
       "      <th>mean_score_time</th>\n",
       "      <th>std_score_time</th>\n",
       "      <th>param_C</th>\n",
       "      <th>param_gamma</th>\n",
       "      <th>param_kernel</th>\n",
       "      <th>params</th>\n",
       "      <th>split0_test_score</th>\n",
       "      <th>split1_test_score</th>\n",
       "      <th>split2_test_score</th>\n",
       "      <th>split3_test_score</th>\n",
       "      <th>split4_test_score</th>\n",
       "      <th>mean_test_score</th>\n",
       "      <th>std_test_score</th>\n",
       "      <th>rank_test_score</th>\n",
       "    </tr>\n",
       "  </thead>\n",
       "  <tbody>\n",
       "    <tr>\n",
       "      <th>0</th>\n",
       "      <td>0.327062</td>\n",
       "      <td>0.013109</td>\n",
       "      <td>0.062805</td>\n",
       "      <td>0.004376</td>\n",
       "      <td>1</td>\n",
       "      <td>0.01</td>\n",
       "      <td>linear</td>\n",
       "      <td>{'C': 1, 'gamma': 0.01, 'kernel': 'linear'}</td>\n",
       "      <td>0.988462</td>\n",
       "      <td>0.976923</td>\n",
       "      <td>0.973077</td>\n",
       "      <td>0.976923</td>\n",
       "      <td>0.980769</td>\n",
       "      <td>0.979231</td>\n",
       "      <td>0.005217</td>\n",
       "      <td>4</td>\n",
       "    </tr>\n",
       "    <tr>\n",
       "      <th>1</th>\n",
       "      <td>0.382350</td>\n",
       "      <td>0.004851</td>\n",
       "      <td>0.111073</td>\n",
       "      <td>0.003313</td>\n",
       "      <td>1</td>\n",
       "      <td>0.01</td>\n",
       "      <td>rbf</td>\n",
       "      <td>{'C': 1, 'gamma': 0.01, 'kernel': 'rbf'}</td>\n",
       "      <td>0.866667</td>\n",
       "      <td>0.866667</td>\n",
       "      <td>0.865385</td>\n",
       "      <td>0.865385</td>\n",
       "      <td>0.865385</td>\n",
       "      <td>0.865897</td>\n",
       "      <td>0.000628</td>\n",
       "      <td>19</td>\n",
       "    </tr>\n",
       "    <tr>\n",
       "      <th>2</th>\n",
       "      <td>0.324802</td>\n",
       "      <td>0.012261</td>\n",
       "      <td>0.060432</td>\n",
       "      <td>0.001721</td>\n",
       "      <td>1</td>\n",
       "      <td>0.001</td>\n",
       "      <td>linear</td>\n",
       "      <td>{'C': 1, 'gamma': 0.001, 'kernel': 'linear'}</td>\n",
       "      <td>0.988462</td>\n",
       "      <td>0.976923</td>\n",
       "      <td>0.973077</td>\n",
       "      <td>0.976923</td>\n",
       "      <td>0.980769</td>\n",
       "      <td>0.979231</td>\n",
       "      <td>0.005217</td>\n",
       "      <td>4</td>\n",
       "    </tr>\n",
       "    <tr>\n",
       "      <th>3</th>\n",
       "      <td>0.330709</td>\n",
       "      <td>0.003033</td>\n",
       "      <td>0.086803</td>\n",
       "      <td>0.003775</td>\n",
       "      <td>1</td>\n",
       "      <td>0.001</td>\n",
       "      <td>rbf</td>\n",
       "      <td>{'C': 1, 'gamma': 0.001, 'kernel': 'rbf'}</td>\n",
       "      <td>0.866667</td>\n",
       "      <td>0.866667</td>\n",
       "      <td>0.865385</td>\n",
       "      <td>0.865385</td>\n",
       "      <td>0.865385</td>\n",
       "      <td>0.865897</td>\n",
       "      <td>0.000628</td>\n",
       "      <td>19</td>\n",
       "    </tr>\n",
       "    <tr>\n",
       "      <th>4</th>\n",
       "      <td>0.307995</td>\n",
       "      <td>0.006324</td>\n",
       "      <td>0.060815</td>\n",
       "      <td>0.001358</td>\n",
       "      <td>1</td>\n",
       "      <td>0.0001</td>\n",
       "      <td>linear</td>\n",
       "      <td>{'C': 1, 'gamma': 0.0001, 'kernel': 'linear'}</td>\n",
       "      <td>0.988462</td>\n",
       "      <td>0.976923</td>\n",
       "      <td>0.973077</td>\n",
       "      <td>0.976923</td>\n",
       "      <td>0.980769</td>\n",
       "      <td>0.979231</td>\n",
       "      <td>0.005217</td>\n",
       "      <td>4</td>\n",
       "    </tr>\n",
       "    <tr>\n",
       "      <th>5</th>\n",
       "      <td>0.283454</td>\n",
       "      <td>0.002368</td>\n",
       "      <td>0.081022</td>\n",
       "      <td>0.001877</td>\n",
       "      <td>1</td>\n",
       "      <td>0.0001</td>\n",
       "      <td>rbf</td>\n",
       "      <td>{'C': 1, 'gamma': 0.0001, 'kernel': 'rbf'}</td>\n",
       "      <td>0.866667</td>\n",
       "      <td>0.866667</td>\n",
       "      <td>0.865385</td>\n",
       "      <td>0.865385</td>\n",
       "      <td>0.865385</td>\n",
       "      <td>0.865897</td>\n",
       "      <td>0.000628</td>\n",
       "      <td>19</td>\n",
       "    </tr>\n",
       "    <tr>\n",
       "      <th>6</th>\n",
       "      <td>0.290827</td>\n",
       "      <td>0.008649</td>\n",
       "      <td>0.057768</td>\n",
       "      <td>0.001727</td>\n",
       "      <td>10</td>\n",
       "      <td>0.01</td>\n",
       "      <td>linear</td>\n",
       "      <td>{'C': 10, 'gamma': 0.01, 'kernel': 'linear'}</td>\n",
       "      <td>0.987179</td>\n",
       "      <td>0.976923</td>\n",
       "      <td>0.973077</td>\n",
       "      <td>0.971795</td>\n",
       "      <td>0.985897</td>\n",
       "      <td>0.978974</td>\n",
       "      <td>0.006415</td>\n",
       "      <td>7</td>\n",
       "    </tr>\n",
       "    <tr>\n",
       "      <th>7</th>\n",
       "      <td>0.368262</td>\n",
       "      <td>0.004678</td>\n",
       "      <td>0.100653</td>\n",
       "      <td>0.003193</td>\n",
       "      <td>10</td>\n",
       "      <td>0.01</td>\n",
       "      <td>rbf</td>\n",
       "      <td>{'C': 10, 'gamma': 0.01, 'kernel': 'rbf'}</td>\n",
       "      <td>0.970513</td>\n",
       "      <td>0.946154</td>\n",
       "      <td>0.952564</td>\n",
       "      <td>0.948718</td>\n",
       "      <td>0.951282</td>\n",
       "      <td>0.953846</td>\n",
       "      <td>0.008619</td>\n",
       "      <td>18</td>\n",
       "    </tr>\n",
       "    <tr>\n",
       "      <th>8</th>\n",
       "      <td>0.305834</td>\n",
       "      <td>0.011066</td>\n",
       "      <td>0.058717</td>\n",
       "      <td>0.003880</td>\n",
       "      <td>10</td>\n",
       "      <td>0.001</td>\n",
       "      <td>linear</td>\n",
       "      <td>{'C': 10, 'gamma': 0.001, 'kernel': 'linear'}</td>\n",
       "      <td>0.987179</td>\n",
       "      <td>0.976923</td>\n",
       "      <td>0.973077</td>\n",
       "      <td>0.971795</td>\n",
       "      <td>0.985897</td>\n",
       "      <td>0.978974</td>\n",
       "      <td>0.006415</td>\n",
       "      <td>7</td>\n",
       "    </tr>\n",
       "    <tr>\n",
       "      <th>9</th>\n",
       "      <td>0.390386</td>\n",
       "      <td>0.006926</td>\n",
       "      <td>0.107346</td>\n",
       "      <td>0.003336</td>\n",
       "      <td>10</td>\n",
       "      <td>0.001</td>\n",
       "      <td>rbf</td>\n",
       "      <td>{'C': 10, 'gamma': 0.001, 'kernel': 'rbf'}</td>\n",
       "      <td>0.866667</td>\n",
       "      <td>0.866667</td>\n",
       "      <td>0.865385</td>\n",
       "      <td>0.865385</td>\n",
       "      <td>0.865385</td>\n",
       "      <td>0.865897</td>\n",
       "      <td>0.000628</td>\n",
       "      <td>19</td>\n",
       "    </tr>\n",
       "    <tr>\n",
       "      <th>10</th>\n",
       "      <td>0.306470</td>\n",
       "      <td>0.011687</td>\n",
       "      <td>0.060658</td>\n",
       "      <td>0.004248</td>\n",
       "      <td>10</td>\n",
       "      <td>0.0001</td>\n",
       "      <td>linear</td>\n",
       "      <td>{'C': 10, 'gamma': 0.0001, 'kernel': 'linear'}</td>\n",
       "      <td>0.987179</td>\n",
       "      <td>0.976923</td>\n",
       "      <td>0.973077</td>\n",
       "      <td>0.971795</td>\n",
       "      <td>0.985897</td>\n",
       "      <td>0.978974</td>\n",
       "      <td>0.006415</td>\n",
       "      <td>7</td>\n",
       "    </tr>\n",
       "    <tr>\n",
       "      <th>11</th>\n",
       "      <td>0.323317</td>\n",
       "      <td>0.005860</td>\n",
       "      <td>0.092783</td>\n",
       "      <td>0.003272</td>\n",
       "      <td>10</td>\n",
       "      <td>0.0001</td>\n",
       "      <td>rbf</td>\n",
       "      <td>{'C': 10, 'gamma': 0.0001, 'kernel': 'rbf'}</td>\n",
       "      <td>0.866667</td>\n",
       "      <td>0.866667</td>\n",
       "      <td>0.865385</td>\n",
       "      <td>0.865385</td>\n",
       "      <td>0.865385</td>\n",
       "      <td>0.865897</td>\n",
       "      <td>0.000628</td>\n",
       "      <td>19</td>\n",
       "    </tr>\n",
       "    <tr>\n",
       "      <th>12</th>\n",
       "      <td>0.301124</td>\n",
       "      <td>0.008820</td>\n",
       "      <td>0.058381</td>\n",
       "      <td>0.002361</td>\n",
       "      <td>100</td>\n",
       "      <td>0.01</td>\n",
       "      <td>linear</td>\n",
       "      <td>{'C': 100, 'gamma': 0.01, 'kernel': 'linear'}</td>\n",
       "      <td>0.987179</td>\n",
       "      <td>0.976923</td>\n",
       "      <td>0.973077</td>\n",
       "      <td>0.971795</td>\n",
       "      <td>0.985897</td>\n",
       "      <td>0.978974</td>\n",
       "      <td>0.006415</td>\n",
       "      <td>7</td>\n",
       "    </tr>\n",
       "    <tr>\n",
       "      <th>13</th>\n",
       "      <td>0.351729</td>\n",
       "      <td>0.010098</td>\n",
       "      <td>0.092504</td>\n",
       "      <td>0.008509</td>\n",
       "      <td>100</td>\n",
       "      <td>0.01</td>\n",
       "      <td>rbf</td>\n",
       "      <td>{'C': 100, 'gamma': 0.01, 'kernel': 'rbf'}</td>\n",
       "      <td>0.989744</td>\n",
       "      <td>0.975641</td>\n",
       "      <td>0.974359</td>\n",
       "      <td>0.975641</td>\n",
       "      <td>0.985897</td>\n",
       "      <td>0.980256</td>\n",
       "      <td>0.006312</td>\n",
       "      <td>1</td>\n",
       "    </tr>\n",
       "    <tr>\n",
       "      <th>14</th>\n",
       "      <td>0.308195</td>\n",
       "      <td>0.009263</td>\n",
       "      <td>0.059885</td>\n",
       "      <td>0.001608</td>\n",
       "      <td>100</td>\n",
       "      <td>0.001</td>\n",
       "      <td>linear</td>\n",
       "      <td>{'C': 100, 'gamma': 0.001, 'kernel': 'linear'}</td>\n",
       "      <td>0.987179</td>\n",
       "      <td>0.976923</td>\n",
       "      <td>0.973077</td>\n",
       "      <td>0.971795</td>\n",
       "      <td>0.985897</td>\n",
       "      <td>0.978974</td>\n",
       "      <td>0.006415</td>\n",
       "      <td>7</td>\n",
       "    </tr>\n",
       "    <tr>\n",
       "      <th>15</th>\n",
       "      <td>0.384983</td>\n",
       "      <td>0.006433</td>\n",
       "      <td>0.101067</td>\n",
       "      <td>0.002689</td>\n",
       "      <td>100</td>\n",
       "      <td>0.001</td>\n",
       "      <td>rbf</td>\n",
       "      <td>{'C': 100, 'gamma': 0.001, 'kernel': 'rbf'}</td>\n",
       "      <td>0.970513</td>\n",
       "      <td>0.946154</td>\n",
       "      <td>0.955128</td>\n",
       "      <td>0.948718</td>\n",
       "      <td>0.951282</td>\n",
       "      <td>0.954359</td>\n",
       "      <td>0.008604</td>\n",
       "      <td>16</td>\n",
       "    </tr>\n",
       "    <tr>\n",
       "      <th>16</th>\n",
       "      <td>0.309249</td>\n",
       "      <td>0.021516</td>\n",
       "      <td>0.061689</td>\n",
       "      <td>0.004564</td>\n",
       "      <td>100</td>\n",
       "      <td>0.0001</td>\n",
       "      <td>linear</td>\n",
       "      <td>{'C': 100, 'gamma': 0.0001, 'kernel': 'linear'}</td>\n",
       "      <td>0.987179</td>\n",
       "      <td>0.976923</td>\n",
       "      <td>0.973077</td>\n",
       "      <td>0.971795</td>\n",
       "      <td>0.985897</td>\n",
       "      <td>0.978974</td>\n",
       "      <td>0.006415</td>\n",
       "      <td>7</td>\n",
       "    </tr>\n",
       "    <tr>\n",
       "      <th>17</th>\n",
       "      <td>0.385774</td>\n",
       "      <td>0.004403</td>\n",
       "      <td>0.106184</td>\n",
       "      <td>0.003552</td>\n",
       "      <td>100</td>\n",
       "      <td>0.0001</td>\n",
       "      <td>rbf</td>\n",
       "      <td>{'C': 100, 'gamma': 0.0001, 'kernel': 'rbf'}</td>\n",
       "      <td>0.866667</td>\n",
       "      <td>0.866667</td>\n",
       "      <td>0.865385</td>\n",
       "      <td>0.865385</td>\n",
       "      <td>0.865385</td>\n",
       "      <td>0.865897</td>\n",
       "      <td>0.000628</td>\n",
       "      <td>19</td>\n",
       "    </tr>\n",
       "    <tr>\n",
       "      <th>18</th>\n",
       "      <td>0.308091</td>\n",
       "      <td>0.009380</td>\n",
       "      <td>0.058445</td>\n",
       "      <td>0.003283</td>\n",
       "      <td>1000</td>\n",
       "      <td>0.01</td>\n",
       "      <td>linear</td>\n",
       "      <td>{'C': 1000, 'gamma': 0.01, 'kernel': 'linear'}</td>\n",
       "      <td>0.987179</td>\n",
       "      <td>0.976923</td>\n",
       "      <td>0.973077</td>\n",
       "      <td>0.971795</td>\n",
       "      <td>0.985897</td>\n",
       "      <td>0.978974</td>\n",
       "      <td>0.006415</td>\n",
       "      <td>7</td>\n",
       "    </tr>\n",
       "    <tr>\n",
       "      <th>19</th>\n",
       "      <td>0.337345</td>\n",
       "      <td>0.014045</td>\n",
       "      <td>0.084492</td>\n",
       "      <td>0.003580</td>\n",
       "      <td>1000</td>\n",
       "      <td>0.01</td>\n",
       "      <td>rbf</td>\n",
       "      <td>{'C': 1000, 'gamma': 0.01, 'kernel': 'rbf'}</td>\n",
       "      <td>0.989744</td>\n",
       "      <td>0.978205</td>\n",
       "      <td>0.973077</td>\n",
       "      <td>0.973077</td>\n",
       "      <td>0.985897</td>\n",
       "      <td>0.980000</td>\n",
       "      <td>0.006765</td>\n",
       "      <td>3</td>\n",
       "    </tr>\n",
       "    <tr>\n",
       "      <th>20</th>\n",
       "      <td>0.315686</td>\n",
       "      <td>0.015269</td>\n",
       "      <td>0.062582</td>\n",
       "      <td>0.003991</td>\n",
       "      <td>1000</td>\n",
       "      <td>0.001</td>\n",
       "      <td>linear</td>\n",
       "      <td>{'C': 1000, 'gamma': 0.001, 'kernel': 'linear'}</td>\n",
       "      <td>0.987179</td>\n",
       "      <td>0.976923</td>\n",
       "      <td>0.973077</td>\n",
       "      <td>0.971795</td>\n",
       "      <td>0.985897</td>\n",
       "      <td>0.978974</td>\n",
       "      <td>0.006415</td>\n",
       "      <td>7</td>\n",
       "    </tr>\n",
       "    <tr>\n",
       "      <th>21</th>\n",
       "      <td>0.353672</td>\n",
       "      <td>0.013356</td>\n",
       "      <td>0.088110</td>\n",
       "      <td>0.004065</td>\n",
       "      <td>1000</td>\n",
       "      <td>0.001</td>\n",
       "      <td>rbf</td>\n",
       "      <td>{'C': 1000, 'gamma': 0.001, 'kernel': 'rbf'}</td>\n",
       "      <td>0.989744</td>\n",
       "      <td>0.975641</td>\n",
       "      <td>0.974359</td>\n",
       "      <td>0.975641</td>\n",
       "      <td>0.985897</td>\n",
       "      <td>0.980256</td>\n",
       "      <td>0.006312</td>\n",
       "      <td>1</td>\n",
       "    </tr>\n",
       "    <tr>\n",
       "      <th>22</th>\n",
       "      <td>0.319121</td>\n",
       "      <td>0.012887</td>\n",
       "      <td>0.060846</td>\n",
       "      <td>0.003511</td>\n",
       "      <td>1000</td>\n",
       "      <td>0.0001</td>\n",
       "      <td>linear</td>\n",
       "      <td>{'C': 1000, 'gamma': 0.0001, 'kernel': 'linear'}</td>\n",
       "      <td>0.987179</td>\n",
       "      <td>0.976923</td>\n",
       "      <td>0.973077</td>\n",
       "      <td>0.971795</td>\n",
       "      <td>0.985897</td>\n",
       "      <td>0.978974</td>\n",
       "      <td>0.006415</td>\n",
       "      <td>7</td>\n",
       "    </tr>\n",
       "    <tr>\n",
       "      <th>23</th>\n",
       "      <td>0.374285</td>\n",
       "      <td>0.014024</td>\n",
       "      <td>0.077788</td>\n",
       "      <td>0.001486</td>\n",
       "      <td>1000</td>\n",
       "      <td>0.0001</td>\n",
       "      <td>rbf</td>\n",
       "      <td>{'C': 1000, 'gamma': 0.0001, 'kernel': 'rbf'}</td>\n",
       "      <td>0.970513</td>\n",
       "      <td>0.944872</td>\n",
       "      <td>0.955128</td>\n",
       "      <td>0.948718</td>\n",
       "      <td>0.951282</td>\n",
       "      <td>0.954103</td>\n",
       "      <td>0.008860</td>\n",
       "      <td>17</td>\n",
       "    </tr>\n",
       "  </tbody>\n",
       "</table>\n",
       "</div>"
      ],
      "text/plain": [
       "    mean_fit_time  std_fit_time  mean_score_time  std_score_time param_C  \\\n",
       "0        0.327062      0.013109         0.062805        0.004376       1   \n",
       "1        0.382350      0.004851         0.111073        0.003313       1   \n",
       "2        0.324802      0.012261         0.060432        0.001721       1   \n",
       "3        0.330709      0.003033         0.086803        0.003775       1   \n",
       "4        0.307995      0.006324         0.060815        0.001358       1   \n",
       "5        0.283454      0.002368         0.081022        0.001877       1   \n",
       "6        0.290827      0.008649         0.057768        0.001727      10   \n",
       "7        0.368262      0.004678         0.100653        0.003193      10   \n",
       "8        0.305834      0.011066         0.058717        0.003880      10   \n",
       "9        0.390386      0.006926         0.107346        0.003336      10   \n",
       "10       0.306470      0.011687         0.060658        0.004248      10   \n",
       "11       0.323317      0.005860         0.092783        0.003272      10   \n",
       "12       0.301124      0.008820         0.058381        0.002361     100   \n",
       "13       0.351729      0.010098         0.092504        0.008509     100   \n",
       "14       0.308195      0.009263         0.059885        0.001608     100   \n",
       "15       0.384983      0.006433         0.101067        0.002689     100   \n",
       "16       0.309249      0.021516         0.061689        0.004564     100   \n",
       "17       0.385774      0.004403         0.106184        0.003552     100   \n",
       "18       0.308091      0.009380         0.058445        0.003283    1000   \n",
       "19       0.337345      0.014045         0.084492        0.003580    1000   \n",
       "20       0.315686      0.015269         0.062582        0.003991    1000   \n",
       "21       0.353672      0.013356         0.088110        0.004065    1000   \n",
       "22       0.319121      0.012887         0.060846        0.003511    1000   \n",
       "23       0.374285      0.014024         0.077788        0.001486    1000   \n",
       "\n",
       "   param_gamma param_kernel                                            params  \\\n",
       "0         0.01       linear       {'C': 1, 'gamma': 0.01, 'kernel': 'linear'}   \n",
       "1         0.01          rbf          {'C': 1, 'gamma': 0.01, 'kernel': 'rbf'}   \n",
       "2        0.001       linear      {'C': 1, 'gamma': 0.001, 'kernel': 'linear'}   \n",
       "3        0.001          rbf         {'C': 1, 'gamma': 0.001, 'kernel': 'rbf'}   \n",
       "4       0.0001       linear     {'C': 1, 'gamma': 0.0001, 'kernel': 'linear'}   \n",
       "5       0.0001          rbf        {'C': 1, 'gamma': 0.0001, 'kernel': 'rbf'}   \n",
       "6         0.01       linear      {'C': 10, 'gamma': 0.01, 'kernel': 'linear'}   \n",
       "7         0.01          rbf         {'C': 10, 'gamma': 0.01, 'kernel': 'rbf'}   \n",
       "8        0.001       linear     {'C': 10, 'gamma': 0.001, 'kernel': 'linear'}   \n",
       "9        0.001          rbf        {'C': 10, 'gamma': 0.001, 'kernel': 'rbf'}   \n",
       "10      0.0001       linear    {'C': 10, 'gamma': 0.0001, 'kernel': 'linear'}   \n",
       "11      0.0001          rbf       {'C': 10, 'gamma': 0.0001, 'kernel': 'rbf'}   \n",
       "12        0.01       linear     {'C': 100, 'gamma': 0.01, 'kernel': 'linear'}   \n",
       "13        0.01          rbf        {'C': 100, 'gamma': 0.01, 'kernel': 'rbf'}   \n",
       "14       0.001       linear    {'C': 100, 'gamma': 0.001, 'kernel': 'linear'}   \n",
       "15       0.001          rbf       {'C': 100, 'gamma': 0.001, 'kernel': 'rbf'}   \n",
       "16      0.0001       linear   {'C': 100, 'gamma': 0.0001, 'kernel': 'linear'}   \n",
       "17      0.0001          rbf      {'C': 100, 'gamma': 0.0001, 'kernel': 'rbf'}   \n",
       "18        0.01       linear    {'C': 1000, 'gamma': 0.01, 'kernel': 'linear'}   \n",
       "19        0.01          rbf       {'C': 1000, 'gamma': 0.01, 'kernel': 'rbf'}   \n",
       "20       0.001       linear   {'C': 1000, 'gamma': 0.001, 'kernel': 'linear'}   \n",
       "21       0.001          rbf      {'C': 1000, 'gamma': 0.001, 'kernel': 'rbf'}   \n",
       "22      0.0001       linear  {'C': 1000, 'gamma': 0.0001, 'kernel': 'linear'}   \n",
       "23      0.0001          rbf     {'C': 1000, 'gamma': 0.0001, 'kernel': 'rbf'}   \n",
       "\n",
       "    split0_test_score  split1_test_score  split2_test_score  \\\n",
       "0            0.988462           0.976923           0.973077   \n",
       "1            0.866667           0.866667           0.865385   \n",
       "2            0.988462           0.976923           0.973077   \n",
       "3            0.866667           0.866667           0.865385   \n",
       "4            0.988462           0.976923           0.973077   \n",
       "5            0.866667           0.866667           0.865385   \n",
       "6            0.987179           0.976923           0.973077   \n",
       "7            0.970513           0.946154           0.952564   \n",
       "8            0.987179           0.976923           0.973077   \n",
       "9            0.866667           0.866667           0.865385   \n",
       "10           0.987179           0.976923           0.973077   \n",
       "11           0.866667           0.866667           0.865385   \n",
       "12           0.987179           0.976923           0.973077   \n",
       "13           0.989744           0.975641           0.974359   \n",
       "14           0.987179           0.976923           0.973077   \n",
       "15           0.970513           0.946154           0.955128   \n",
       "16           0.987179           0.976923           0.973077   \n",
       "17           0.866667           0.866667           0.865385   \n",
       "18           0.987179           0.976923           0.973077   \n",
       "19           0.989744           0.978205           0.973077   \n",
       "20           0.987179           0.976923           0.973077   \n",
       "21           0.989744           0.975641           0.974359   \n",
       "22           0.987179           0.976923           0.973077   \n",
       "23           0.970513           0.944872           0.955128   \n",
       "\n",
       "    split3_test_score  split4_test_score  mean_test_score  std_test_score  \\\n",
       "0            0.976923           0.980769         0.979231        0.005217   \n",
       "1            0.865385           0.865385         0.865897        0.000628   \n",
       "2            0.976923           0.980769         0.979231        0.005217   \n",
       "3            0.865385           0.865385         0.865897        0.000628   \n",
       "4            0.976923           0.980769         0.979231        0.005217   \n",
       "5            0.865385           0.865385         0.865897        0.000628   \n",
       "6            0.971795           0.985897         0.978974        0.006415   \n",
       "7            0.948718           0.951282         0.953846        0.008619   \n",
       "8            0.971795           0.985897         0.978974        0.006415   \n",
       "9            0.865385           0.865385         0.865897        0.000628   \n",
       "10           0.971795           0.985897         0.978974        0.006415   \n",
       "11           0.865385           0.865385         0.865897        0.000628   \n",
       "12           0.971795           0.985897         0.978974        0.006415   \n",
       "13           0.975641           0.985897         0.980256        0.006312   \n",
       "14           0.971795           0.985897         0.978974        0.006415   \n",
       "15           0.948718           0.951282         0.954359        0.008604   \n",
       "16           0.971795           0.985897         0.978974        0.006415   \n",
       "17           0.865385           0.865385         0.865897        0.000628   \n",
       "18           0.971795           0.985897         0.978974        0.006415   \n",
       "19           0.973077           0.985897         0.980000        0.006765   \n",
       "20           0.971795           0.985897         0.978974        0.006415   \n",
       "21           0.975641           0.985897         0.980256        0.006312   \n",
       "22           0.971795           0.985897         0.978974        0.006415   \n",
       "23           0.948718           0.951282         0.954103        0.008860   \n",
       "\n",
       "    rank_test_score  \n",
       "0                 4  \n",
       "1                19  \n",
       "2                 4  \n",
       "3                19  \n",
       "4                 4  \n",
       "5                19  \n",
       "6                 7  \n",
       "7                18  \n",
       "8                 7  \n",
       "9                19  \n",
       "10                7  \n",
       "11               19  \n",
       "12                7  \n",
       "13                1  \n",
       "14                7  \n",
       "15               16  \n",
       "16                7  \n",
       "17               19  \n",
       "18                7  \n",
       "19                3  \n",
       "20                7  \n",
       "21                1  \n",
       "22                7  \n",
       "23               17  "
      ]
     },
     "execution_count": 268,
     "metadata": {},
     "output_type": "execute_result"
    }
   ],
   "source": [
    "# results\n",
    "cv_results = pd.DataFrame(clf.cv_results_)\n",
    "cv_results"
   ]
  },
  {
   "cell_type": "code",
   "execution_count": 270,
   "metadata": {},
   "outputs": [
    {
     "data": {
      "text/plain": [
       "{'C': 100, 'gamma': 0.01, 'kernel': 'rbf'}"
      ]
     },
     "execution_count": 270,
     "metadata": {},
     "output_type": "execute_result"
    }
   ],
   "source": [
    "clf.best_params_"
   ]
  },
  {
   "cell_type": "code",
   "execution_count": 271,
   "metadata": {},
   "outputs": [
    {
     "data": {
      "text/plain": [
       "0.9802564102564103"
      ]
     },
     "execution_count": 271,
     "metadata": {},
     "output_type": "execute_result"
    }
   ],
   "source": [
    "clf.best_score_"
   ]
  },
  {
   "cell_type": "markdown",
   "metadata": {},
   "source": [
    "## Best params model"
   ]
  },
  {
   "cell_type": "code",
   "execution_count": 272,
   "metadata": {},
   "outputs": [
    {
     "data": {
      "text/plain": [
       "SVC(C=100, gamma=0.01)"
      ]
     },
     "execution_count": 272,
     "metadata": {},
     "output_type": "execute_result"
    }
   ],
   "source": [
    "best_svm_model = svm.SVC(C=100, gamma=0.01, kernel='rbf')\n",
    "best_svm_model.fit(tf_idf_model, y_train)"
   ]
  },
  {
   "cell_type": "code",
   "execution_count": 273,
   "metadata": {},
   "outputs": [
    {
     "name": "stdout",
     "output_type": "stream",
     "text": [
      "[[1443    5]\n",
      " [  25  199]]\n"
     ]
    }
   ],
   "source": [
    "y_pred_best_svm = best_svm_model.predict(X_test)\n",
    "print(confusion_matrix(y_test, y_pred_best_svm))"
   ]
  },
  {
   "cell_type": "code",
   "execution_count": 280,
   "metadata": {},
   "outputs": [],
   "source": [
    "def pred(msg):\n",
    "    msg = vectorizer.transform([msg])\n",
    "    prediction = svm_model.predict(msg)\n",
    "    return prediction[0]"
   ]
  },
  {
   "cell_type": "code",
   "execution_count": 281,
   "metadata": {},
   "outputs": [
    {
     "data": {
      "text/plain": [
       "'ham'"
      ]
     },
     "execution_count": 281,
     "metadata": {},
     "output_type": "execute_result"
    }
   ],
   "source": [
    "pred(\"Call me, urgent\")"
   ]
  },
  {
   "cell_type": "code",
   "execution_count": 284,
   "metadata": {},
   "outputs": [],
   "source": [
    "import joblib\n",
    "import pickle"
   ]
  },
  {
   "cell_type": "code",
   "execution_count": 278,
   "metadata": {},
   "outputs": [
    {
     "data": {
      "text/plain": [
       "['ham_spam_model.sav']"
      ]
     },
     "execution_count": 278,
     "metadata": {},
     "output_type": "execute_result"
    }
   ],
   "source": [
    "# save the model to disk\n",
    "filename = 'ham_spam_model.sav'\n",
    "joblib.dump(model, filename)"
   ]
  },
  {
   "cell_type": "code",
   "execution_count": 288,
   "metadata": {},
   "outputs": [],
   "source": [
    "pickle.dump(vectorizer,open(\"vectorizer.pkl\",\"wb\"))"
   ]
  },
  {
   "cell_type": "code",
   "execution_count": 289,
   "metadata": {},
   "outputs": [],
   "source": [
    "loaded_vectorizer = pickle.load(open(\"vectorizer.pkl\", 'rb'))\n",
    "loaded_model = joblib.load(filename)"
   ]
  },
  {
   "cell_type": "code",
   "execution_count": 296,
   "metadata": {},
   "outputs": [],
   "source": [
    "def predict_msg_from_loaded(msg):\n",
    "    msg = loaded_vectorizer.transform([msg])\n",
    "    prediction = loaded_model.predict(msg.toarray())\n",
    "    return prediction[0]"
   ]
  },
  {
   "cell_type": "code",
   "execution_count": 299,
   "metadata": {},
   "outputs": [
    {
     "data": {
      "text/plain": [
       "'ham'"
      ]
     },
     "execution_count": 299,
     "metadata": {},
     "output_type": "execute_result"
    }
   ],
   "source": [
    "predict_msg_from_loaded(\"Call me urgent\")"
   ]
  }
 ],
 "metadata": {
  "kernelspec": {
   "display_name": "Python 3.8.3 64-bit ('kpmg_intership_1': conda)",
   "language": "python",
   "name": "python38364bitkpmgintership1condab5373946c1054560a1cd9f27bc604b47"
  },
  "language_info": {
   "codemirror_mode": {
    "name": "ipython",
    "version": 3
   },
   "file_extension": ".py",
   "mimetype": "text/x-python",
   "name": "python",
   "nbconvert_exporter": "python",
   "pygments_lexer": "ipython3",
   "version": "3.8.3"
  }
 },
 "nbformat": 4,
 "nbformat_minor": 4
}
